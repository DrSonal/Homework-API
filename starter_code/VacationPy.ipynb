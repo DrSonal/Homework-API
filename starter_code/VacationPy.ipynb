{
 "cells": [
  {
   "cell_type": "markdown",
   "metadata": {},
   "source": [
    "# VacationPy\n",
    "----\n",
    "\n",
    "#### Note\n",
    "* Instructions have been included for each segment. You do not have to follow them exactly, but they are included to help you think through the steps."
   ]
  },
  {
   "cell_type": "code",
   "execution_count": 1,
   "metadata": {},
   "outputs": [],
   "source": [
    "# Dependencies and Setup\n",
    "import matplotlib.pyplot as plt\n",
    "import pandas as pd\n",
    "import numpy as np\n",
    "import requests\n",
    "import gmaps\n",
    "import os\n",
    "\n",
    "# Import API key\n",
    "from api_keys import g_key\n"
   ]
  },
  {
   "cell_type": "markdown",
   "metadata": {},
   "source": [
    "### Store Part I results into DataFrame\n",
    "* Load the csv exported in Part I to a DataFrame"
   ]
  },
  {
   "cell_type": "code",
   "execution_count": 2,
   "metadata": {},
   "outputs": [
    {
     "data": {
      "text/html": [
       "<div>\n",
       "<style scoped>\n",
       "    .dataframe tbody tr th:only-of-type {\n",
       "        vertical-align: middle;\n",
       "    }\n",
       "\n",
       "    .dataframe tbody tr th {\n",
       "        vertical-align: top;\n",
       "    }\n",
       "\n",
       "    .dataframe thead th {\n",
       "        text-align: right;\n",
       "    }\n",
       "</style>\n",
       "<table border=\"1\" class=\"dataframe\">\n",
       "  <thead>\n",
       "    <tr style=\"text-align: right;\">\n",
       "      <th></th>\n",
       "      <th>latitude</th>\n",
       "      <th>longitude</th>\n",
       "      <th>City</th>\n",
       "      <th>Country</th>\n",
       "      <th>Temperature (F)</th>\n",
       "      <th>Humidity (%)</th>\n",
       "      <th>Cloudiness (%)</th>\n",
       "      <th>Wind Speed (MPH)</th>\n",
       "    </tr>\n",
       "  </thead>\n",
       "  <tbody>\n",
       "    <tr>\n",
       "      <th>0</th>\n",
       "      <td>39.48</td>\n",
       "      <td>62.91</td>\n",
       "      <td>Seydi</td>\n",
       "      <td>TM</td>\n",
       "      <td>44.80</td>\n",
       "      <td>67</td>\n",
       "      <td>99</td>\n",
       "      <td>11.36</td>\n",
       "    </tr>\n",
       "    <tr>\n",
       "      <th>1</th>\n",
       "      <td>69.70</td>\n",
       "      <td>170.31</td>\n",
       "      <td>Pevek</td>\n",
       "      <td>RU</td>\n",
       "      <td>-23.10</td>\n",
       "      <td>89</td>\n",
       "      <td>0</td>\n",
       "      <td>5.59</td>\n",
       "    </tr>\n",
       "    <tr>\n",
       "      <th>2</th>\n",
       "      <td>47.67</td>\n",
       "      <td>-52.73</td>\n",
       "      <td>Torbay</td>\n",
       "      <td>CA</td>\n",
       "      <td>27.70</td>\n",
       "      <td>63</td>\n",
       "      <td>75</td>\n",
       "      <td>21.92</td>\n",
       "    </tr>\n",
       "    <tr>\n",
       "      <th>3</th>\n",
       "      <td>-33.93</td>\n",
       "      <td>18.42</td>\n",
       "      <td>Cape Town</td>\n",
       "      <td>ZA</td>\n",
       "      <td>69.10</td>\n",
       "      <td>82</td>\n",
       "      <td>20</td>\n",
       "      <td>16.11</td>\n",
       "    </tr>\n",
       "    <tr>\n",
       "      <th>4</th>\n",
       "      <td>42.60</td>\n",
       "      <td>-73.97</td>\n",
       "      <td>Albany</td>\n",
       "      <td>US</td>\n",
       "      <td>37.63</td>\n",
       "      <td>80</td>\n",
       "      <td>90</td>\n",
       "      <td>9.17</td>\n",
       "    </tr>\n",
       "  </tbody>\n",
       "</table>\n",
       "</div>"
      ],
      "text/plain": [
       "   latitude  longitude       City Country  Temperature (F)  Humidity (%)  \\\n",
       "0     39.48      62.91      Seydi      TM            44.80            67   \n",
       "1     69.70     170.31      Pevek      RU           -23.10            89   \n",
       "2     47.67     -52.73     Torbay      CA            27.70            63   \n",
       "3    -33.93      18.42  Cape Town      ZA            69.10            82   \n",
       "4     42.60     -73.97     Albany      US            37.63            80   \n",
       "\n",
       "   Cloudiness (%)  Wind Speed (MPH)  \n",
       "0              99             11.36  \n",
       "1               0              5.59  \n",
       "2              75             21.92  \n",
       "3              20             16.11  \n",
       "4              90              9.17  "
      ]
     },
     "execution_count": 2,
     "metadata": {},
     "output_type": "execute_result"
    }
   ],
   "source": [
    "vacation_df=pd.read_csv('city_data.csv')\n",
    "vacation_df.head()"
   ]
  },
  {
   "cell_type": "markdown",
   "metadata": {},
   "source": [
    "### Humidity Heatmap\n",
    "* Configure gmaps.\n",
    "* Use the Lat and Lng as locations and Humidity as the weight.\n",
    "* Add Heatmap layer to map."
   ]
  },
  {
   "cell_type": "code",
   "execution_count": 3,
   "metadata": {},
   "outputs": [],
   "source": [
    "gmaps.configure(api_key=g_key)\n"
   ]
  },
  {
   "cell_type": "code",
   "execution_count": 4,
   "metadata": {},
   "outputs": [
    {
     "data": {
      "application/vnd.jupyter.widget-view+json": {
       "model_id": "2b174be868f043aa9ca7984021c4e7ca",
       "version_major": 2,
       "version_minor": 0
      },
      "text/plain": [
       "Figure(layout=FigureLayout(height='420px'))"
      ]
     },
     "metadata": {},
     "output_type": "display_data"
    }
   ],
   "source": [
    "Coord=vacation_df[[\"latitude\",\"longitude\"]]\n",
    "Humidity=vacation_df[\"Humidity (%)\"]\n",
    "\n",
    "fig=gmaps.figure()\n",
    "heatlayer=gmaps.heatmap_layer(Coord, weights=Humidity)\n",
    "fig.add_layer(heatlayer)\n",
    "fig\n"
   ]
  },
  {
   "cell_type": "markdown",
   "metadata": {},
   "source": [
    "### Create new DataFrame fitting weather criteria\n",
    "* Narrow down the cities to fit weather conditions.\n",
    "* Drop any rows will null values."
   ]
  },
  {
   "cell_type": "code",
   "execution_count": 5,
   "metadata": {},
   "outputs": [
    {
     "data": {
      "text/html": [
       "<div>\n",
       "<style scoped>\n",
       "    .dataframe tbody tr th:only-of-type {\n",
       "        vertical-align: middle;\n",
       "    }\n",
       "\n",
       "    .dataframe tbody tr th {\n",
       "        vertical-align: top;\n",
       "    }\n",
       "\n",
       "    .dataframe thead th {\n",
       "        text-align: right;\n",
       "    }\n",
       "</style>\n",
       "<table border=\"1\" class=\"dataframe\">\n",
       "  <thead>\n",
       "    <tr style=\"text-align: right;\">\n",
       "      <th></th>\n",
       "      <th>latitude</th>\n",
       "      <th>longitude</th>\n",
       "      <th>City</th>\n",
       "      <th>Country</th>\n",
       "      <th>Temperature (F)</th>\n",
       "      <th>Humidity (%)</th>\n",
       "      <th>Cloudiness (%)</th>\n",
       "      <th>Wind Speed (MPH)</th>\n",
       "    </tr>\n",
       "  </thead>\n",
       "  <tbody>\n",
       "    <tr>\n",
       "      <th>38</th>\n",
       "      <td>-26.62</td>\n",
       "      <td>-54.13</td>\n",
       "      <td>San Vicente</td>\n",
       "      <td>AR</td>\n",
       "      <td>79.00</td>\n",
       "      <td>99</td>\n",
       "      <td>0</td>\n",
       "      <td>1.01</td>\n",
       "    </tr>\n",
       "    <tr>\n",
       "      <th>43</th>\n",
       "      <td>-23.12</td>\n",
       "      <td>-134.97</td>\n",
       "      <td>Rikitea</td>\n",
       "      <td>PF</td>\n",
       "      <td>78.55</td>\n",
       "      <td>77</td>\n",
       "      <td>0</td>\n",
       "      <td>9.48</td>\n",
       "    </tr>\n",
       "    <tr>\n",
       "      <th>185</th>\n",
       "      <td>-31.39</td>\n",
       "      <td>-58.02</td>\n",
       "      <td>Concordia</td>\n",
       "      <td>AR</td>\n",
       "      <td>78.12</td>\n",
       "      <td>53</td>\n",
       "      <td>0</td>\n",
       "      <td>9.17</td>\n",
       "    </tr>\n",
       "    <tr>\n",
       "      <th>458</th>\n",
       "      <td>-21.15</td>\n",
       "      <td>149.20</td>\n",
       "      <td>Mackay</td>\n",
       "      <td>AU</td>\n",
       "      <td>78.19</td>\n",
       "      <td>83</td>\n",
       "      <td>0</td>\n",
       "      <td>8.05</td>\n",
       "    </tr>\n",
       "    <tr>\n",
       "      <th>491</th>\n",
       "      <td>18.74</td>\n",
       "      <td>7.39</td>\n",
       "      <td>Arlit</td>\n",
       "      <td>NE</td>\n",
       "      <td>78.71</td>\n",
       "      <td>11</td>\n",
       "      <td>0</td>\n",
       "      <td>9.80</td>\n",
       "    </tr>\n",
       "  </tbody>\n",
       "</table>\n",
       "</div>"
      ],
      "text/plain": [
       "     latitude  longitude         City Country  Temperature (F)  Humidity (%)  \\\n",
       "38     -26.62     -54.13  San Vicente      AR            79.00            99   \n",
       "43     -23.12    -134.97      Rikitea      PF            78.55            77   \n",
       "185    -31.39     -58.02    Concordia      AR            78.12            53   \n",
       "458    -21.15     149.20       Mackay      AU            78.19            83   \n",
       "491     18.74       7.39        Arlit      NE            78.71            11   \n",
       "\n",
       "     Cloudiness (%)  Wind Speed (MPH)  \n",
       "38                0              1.01  \n",
       "43                0              9.48  \n",
       "185               0              9.17  \n",
       "458               0              8.05  \n",
       "491               0              9.80  "
      ]
     },
     "execution_count": 5,
     "metadata": {},
     "output_type": "execute_result"
    }
   ],
   "source": [
    "condition_city_df = vacation_df.loc[(vacation_df[\"Temperature (F)\"] < 80) & (vacation_df[\"Temperature (F)\"] > 70) \\\n",
    "                                    & (vacation_df[\"Wind Speed (MPH)\"] < 10) \\\n",
    "                                    & (vacation_df[\"Cloudiness (%)\"] == 0)].dropna()\n",
    "condition_city_df"
   ]
  },
  {
   "cell_type": "markdown",
   "metadata": {},
   "source": [
    "### Hotel Map\n",
    "* Store into variable named `hotel_df`.\n",
    "* Add a \"Hotel Name\" column to the DataFrame.\n",
    "* Set parameters to search for hotels with 5000 meters.\n",
    "* Hit the Google Places API for each city's coordinates.\n",
    "* Store the first Hotel result into the DataFrame.\n",
    "* Plot markers on top of the heatmap."
   ]
  },
  {
   "cell_type": "code",
   "execution_count": 11,
   "metadata": {},
   "outputs": [
    {
     "name": "stderr",
     "output_type": "stream",
     "text": [
      "C:\\Users\\Kotijya\\.anaconda\\New folder\\envs\\PythonData\\lib\\site-packages\\ipykernel_launcher.py:5: SettingWithCopyWarning: \n",
      "A value is trying to be set on a copy of a slice from a DataFrame.\n",
      "Try using .loc[row_indexer,col_indexer] = value instead\n",
      "\n",
      "See the caveats in the documentation: http://pandas.pydata.org/pandas-docs/stable/user_guide/indexing.html#returning-a-view-versus-a-copy\n",
      "  \"\"\"\n"
     ]
    },
    {
     "data": {
      "text/html": [
       "<div>\n",
       "<style scoped>\n",
       "    .dataframe tbody tr th:only-of-type {\n",
       "        vertical-align: middle;\n",
       "    }\n",
       "\n",
       "    .dataframe tbody tr th {\n",
       "        vertical-align: top;\n",
       "    }\n",
       "\n",
       "    .dataframe thead th {\n",
       "        text-align: right;\n",
       "    }\n",
       "</style>\n",
       "<table border=\"1\" class=\"dataframe\">\n",
       "  <thead>\n",
       "    <tr style=\"text-align: right;\">\n",
       "      <th></th>\n",
       "      <th>City</th>\n",
       "      <th>Country</th>\n",
       "      <th>latitude</th>\n",
       "      <th>longitude</th>\n",
       "      <th>Hotel Name</th>\n",
       "    </tr>\n",
       "  </thead>\n",
       "  <tbody>\n",
       "    <tr>\n",
       "      <th>38</th>\n",
       "      <td>San Vicente</td>\n",
       "      <td>AR</td>\n",
       "      <td>-26.62</td>\n",
       "      <td>-54.13</td>\n",
       "      <td></td>\n",
       "    </tr>\n",
       "    <tr>\n",
       "      <th>43</th>\n",
       "      <td>Rikitea</td>\n",
       "      <td>PF</td>\n",
       "      <td>-23.12</td>\n",
       "      <td>-134.97</td>\n",
       "      <td></td>\n",
       "    </tr>\n",
       "    <tr>\n",
       "      <th>185</th>\n",
       "      <td>Concordia</td>\n",
       "      <td>AR</td>\n",
       "      <td>-31.39</td>\n",
       "      <td>-58.02</td>\n",
       "      <td></td>\n",
       "    </tr>\n",
       "    <tr>\n",
       "      <th>458</th>\n",
       "      <td>Mackay</td>\n",
       "      <td>AU</td>\n",
       "      <td>-21.15</td>\n",
       "      <td>149.20</td>\n",
       "      <td></td>\n",
       "    </tr>\n",
       "    <tr>\n",
       "      <th>491</th>\n",
       "      <td>Arlit</td>\n",
       "      <td>NE</td>\n",
       "      <td>18.74</td>\n",
       "      <td>7.39</td>\n",
       "      <td></td>\n",
       "    </tr>\n",
       "  </tbody>\n",
       "</table>\n",
       "</div>"
      ],
      "text/plain": [
       "            City Country  latitude  longitude Hotel Name\n",
       "38   San Vicente      AR    -26.62     -54.13           \n",
       "43       Rikitea      PF    -23.12    -134.97           \n",
       "185    Concordia      AR    -31.39     -58.02           \n",
       "458       Mackay      AU    -21.15     149.20           \n",
       "491        Arlit      NE     18.74       7.39           "
      ]
     },
     "execution_count": 11,
     "metadata": {},
     "output_type": "execute_result"
    }
   ],
   "source": [
    "# Create a hotel_df\n",
    "hotel_df = condition_city_df[[\"City\",\"Country\", \"latitude\", \"longitude\"]]\n",
    "\n",
    "# Add a \"Hotel Name\" column to the DataFrame.\n",
    "hotel_df[\"Hotel Name\"] = \"\"\n",
    "\n",
    "# Display the result\n",
    "hotel_df"
   ]
  },
  {
   "cell_type": "code",
   "execution_count": 12,
   "metadata": {},
   "outputs": [],
   "source": [
    "base_url = \"https://maps.googleapis.com/maps/api/place/nearbysearch/json\"\n",
    "\n",
    "params = {\"type\" : \"hotel\",\n",
    "          \"keyword\" : \"hotel\",\n",
    "          \"radius\" : 5000,\n",
    "          \"key\" : g_key}"
   ]
  },
  {
   "cell_type": "code",
   "execution_count": 14,
   "metadata": {},
   "outputs": [
    {
     "name": "stderr",
     "output_type": "stream",
     "text": [
      "C:\\Users\\Kotijya\\.anaconda\\New folder\\envs\\PythonData\\lib\\site-packages\\pandas\\core\\indexing.py:494: SettingWithCopyWarning: \n",
      "A value is trying to be set on a copy of a slice from a DataFrame.\n",
      "Try using .loc[row_indexer,col_indexer] = value instead\n",
      "\n",
      "See the caveats in the documentation: http://pandas.pydata.org/pandas-docs/stable/user_guide/indexing.html#returning-a-view-versus-a-copy\n",
      "  self.obj[item] = s\n"
     ]
    },
    {
     "data": {
      "text/html": [
       "<div>\n",
       "<style scoped>\n",
       "    .dataframe tbody tr th:only-of-type {\n",
       "        vertical-align: middle;\n",
       "    }\n",
       "\n",
       "    .dataframe tbody tr th {\n",
       "        vertical-align: top;\n",
       "    }\n",
       "\n",
       "    .dataframe thead th {\n",
       "        text-align: right;\n",
       "    }\n",
       "</style>\n",
       "<table border=\"1\" class=\"dataframe\">\n",
       "  <thead>\n",
       "    <tr style=\"text-align: right;\">\n",
       "      <th></th>\n",
       "      <th>City</th>\n",
       "      <th>Country</th>\n",
       "      <th>latitude</th>\n",
       "      <th>longitude</th>\n",
       "      <th>Hotel Name</th>\n",
       "    </tr>\n",
       "  </thead>\n",
       "  <tbody>\n",
       "    <tr>\n",
       "      <th>38</th>\n",
       "      <td>San Vicente</td>\n",
       "      <td>AR</td>\n",
       "      <td>-26.62</td>\n",
       "      <td>-54.13</td>\n",
       "      <td>Hotel Y Restaurante Los Lapachos</td>\n",
       "    </tr>\n",
       "    <tr>\n",
       "      <th>43</th>\n",
       "      <td>Rikitea</td>\n",
       "      <td>PF</td>\n",
       "      <td>-23.12</td>\n",
       "      <td>-134.97</td>\n",
       "      <td>Pension Maro'i</td>\n",
       "    </tr>\n",
       "    <tr>\n",
       "      <th>185</th>\n",
       "      <td>Concordia</td>\n",
       "      <td>AR</td>\n",
       "      <td>-31.39</td>\n",
       "      <td>-58.02</td>\n",
       "      <td>Hotel Salto Grande</td>\n",
       "    </tr>\n",
       "    <tr>\n",
       "      <th>458</th>\n",
       "      <td>Mackay</td>\n",
       "      <td>AU</td>\n",
       "      <td>-21.15</td>\n",
       "      <td>149.20</td>\n",
       "      <td>Ocean International Hotel</td>\n",
       "    </tr>\n",
       "    <tr>\n",
       "      <th>491</th>\n",
       "      <td>Arlit</td>\n",
       "      <td>NE</td>\n",
       "      <td>18.74</td>\n",
       "      <td>7.39</td>\n",
       "      <td>Hôtel Telwa Bungalow</td>\n",
       "    </tr>\n",
       "  </tbody>\n",
       "</table>\n",
       "</div>"
      ],
      "text/plain": [
       "            City Country  latitude  longitude  \\\n",
       "38   San Vicente      AR    -26.62     -54.13   \n",
       "43       Rikitea      PF    -23.12    -134.97   \n",
       "185    Concordia      AR    -31.39     -58.02   \n",
       "458       Mackay      AU    -21.15     149.20   \n",
       "491        Arlit      NE     18.74       7.39   \n",
       "\n",
       "                           Hotel Name  \n",
       "38   Hotel Y Restaurante Los Lapachos  \n",
       "43                     Pension Maro'i  \n",
       "185                Hotel Salto Grande  \n",
       "458         Ocean International Hotel  \n",
       "491              Hôtel Telwa Bungalow  "
      ]
     },
     "execution_count": 14,
     "metadata": {},
     "output_type": "execute_result"
    }
   ],
   "source": [
    "\n",
    "#hotel_df = condition_city_df[[\"City\", \"Country\", \"Lat\", \"Lng\"]].copy()\n",
    "#hotel_df[\"Hotel Name\"] = \"\"\n",
    "#hotel_df\n",
    "#params = {\n",
    "   # \"radius\": 5000,\n",
    "    #\"types\": \"lodging\",\n",
    "    #\"key\": g_key\n",
    "#}\n",
    "# Iterate through \n",
    "for index, row in hotel_df.iterrows():\n",
    "    # get lat, lng from df\n",
    "    lat = row[\"latitude\"]\n",
    "    lng = row[\"longitude\"]\n",
    "    params[\"location\"] = f\"{lat},{lng}\"\n",
    "    # Use the search term: \"Hotel\" and our lat/lng\n",
    "    base_url = \"https://maps.googleapis.com/maps/api/place/nearbysearch/json\"\n",
    "    # make request and print url\n",
    "    name_address = requests.get(base_url, params=params)\n",
    "    # convert to json\n",
    "    name_address = name_address.json()\n",
    "    # Grab the first hotel from the results and store the name\n",
    "    try:\n",
    "        hotel_df.loc[index, \"Hotel Name\"] = name_address[\"results\"][0][\"name\"]\n",
    "    except (KeyError, IndexError):\n",
    "        print(\"Missing field/result... skipping.\")\n",
    "hotel_df"
   ]
  },
  {
   "cell_type": "code",
   "execution_count": 18,
   "metadata": {},
   "outputs": [],
   "source": [
    "# NOTE: Do not change any of the code in this cell\n",
    "\n",
    "# Using the template add the hotel marks to the heatmap\n",
    "info_box_template = \"\"\"\n",
    "<dl>\n",
    "<dt>Name</dt><dd>{Hotel Name}</dd>\n",
    "<dt>City</dt><dd>{City}</dd>\n",
    "<dt>Country</dt><dd>{Country}</dd>\n",
    "</dl>\n",
    "\"\"\"\n",
    "# Store the DataFrame Row\n",
    "# NOTE: be sure to update with your DataFrame name\n",
    "hotel_info = [info_box_template.format(**row) for index, row in hotel_df.iterrows()]\n",
    "locations = hotel_df[[\"latitude\", \"longitude\"]]"
   ]
  },
  {
   "cell_type": "code",
   "execution_count": 25,
   "metadata": {},
   "outputs": [
    {
     "data": {
      "text/plain": [
       "<Figure size 432x288 with 0 Axes>"
      ]
     },
     "metadata": {},
     "output_type": "display_data"
    }
   ],
   "source": [
    "# Add marker layer ontop of heat map\n",
    "markers = gmaps.marker_layer(locations, info_box_content = hotel_info)\n",
    "fig.add_layer(markers)\n",
    "#plt.savefig(\"Images/htmp_with_popup_hotel_markers.png\")\n",
    "fig\n",
    "plt.savefig(\"../Images/htmp_with_popup_hotel_markers.png\")\n",
    "\n",
    "\n",
    "# Display Map"
   ]
  }
 ],
 "metadata": {
  "kernelspec": {
   "display_name": "Python 3",
   "language": "python",
   "name": "python3"
  },
  "language_info": {
   "codemirror_mode": {
    "name": "ipython",
    "version": 3
   },
   "file_extension": ".py",
   "mimetype": "text/x-python",
   "name": "python",
   "nbconvert_exporter": "python",
   "pygments_lexer": "ipython3",
   "version": "3.6.9"
  },
  "latex_envs": {
   "LaTeX_envs_menu_present": true,
   "autoclose": false,
   "autocomplete": true,
   "bibliofile": "biblio.bib",
   "cite_by": "apalike",
   "current_citInitial": 1,
   "eqLabelWithNumbers": true,
   "eqNumInitial": 1,
   "hotkeys": {
    "equation": "Ctrl-E",
    "itemize": "Ctrl-I"
   },
   "labels_anchors": false,
   "latex_user_defs": false,
   "report_style_numbering": false,
   "user_envs_cfg": false
  }
 },
 "nbformat": 4,
 "nbformat_minor": 2
}
